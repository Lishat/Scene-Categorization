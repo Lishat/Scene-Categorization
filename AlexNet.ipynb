{
  "nbformat": 4,
  "nbformat_minor": 0,
  "metadata": {
    "colab": {
      "name": "AlexNet.ipynb",
      "version": "0.3.2",
      "provenance": [],
      "collapsed_sections": []
    },
    "kernelspec": {
      "name": "python3",
      "display_name": "Python 3"
    },
    "accelerator": "GPU"
  },
  "cells": [
    {
      "metadata": {
        "id": "yBqdBddV8_fb",
        "colab_type": "text"
      },
      "cell_type": "markdown",
      "source": [
        "##Loading Files from drive\n",
        "The command below is to load files from drive"
      ]
    },
    {
      "metadata": {
        "id": "NPJZ1qXGGZ0h",
        "colab_type": "code",
        "outputId": "41feff20-8fa4-4c3c-925d-f96f0f396656",
        "colab": {
          "base_uri": "https://localhost:8080/",
          "height": 34
        }
      },
      "cell_type": "code",
      "source": [
        "from google.colab import drive\n",
        "drive.mount('/content/drive')"
      ],
      "execution_count": 0,
      "outputs": [
        {
          "output_type": "stream",
          "text": [
            "Drive already mounted at /content/drive; to attempt to forcibly remount, call drive.mount(\"/content/drive\", force_remount=True).\n"
          ],
          "name": "stdout"
        }
      ]
    },
    {
      "metadata": {
        "id": "cNinh_UR9GXb",
        "colab_type": "text"
      },
      "cell_type": "markdown",
      "source": [
        "##Importing Libraries\n",
        "Numpy, Pandas, Torch, PIL, Torchvision, matplotlib and os libraries are imported"
      ]
    },
    {
      "metadata": {
        "id": "zJuwavz2Fymh",
        "colab_type": "code",
        "colab": {}
      },
      "cell_type": "code",
      "source": [
        "import numpy as np\n",
        "import pandas as pd\n",
        "import os\n",
        "import torch\n",
        "import torchvision\n",
        "from PIL import Image\n",
        "import matplotlib.pyplot as plt\n",
        "from torch.utils.data import Dataset\n",
        "from torchvision import datasets, models, transforms"
      ],
      "execution_count": 0,
      "outputs": []
    },
    {
      "metadata": {
        "id": "WH40RFgp9U6k",
        "colab_type": "text"
      },
      "cell_type": "markdown",
      "source": [
        "##Dataset loading\n",
        "The dataset class is inherited and customized as per the dataset given. RandomResizedCrop, RandomHorizontalFlip are used as data augmentation techniques. The dataset is also normalized to obtain better results.\n",
        "\n"
      ]
    },
    {
      "metadata": {
        "id": "UA3o7qGkcKIp",
        "colab_type": "code",
        "colab": {}
      },
      "cell_type": "code",
      "source": [
        "class DataSet(Dataset):\n",
        "    def __init__(self, root_dir, total_no, csv_file, transform=None):\n",
        "        self.root_dir = root_dir\n",
        "        self.transform = transform\n",
        "        self.total_no = total_no\n",
        "        self.csv_file = np.array(pd.read_csv(csv_file, header=None))[0]\n",
        "\n",
        "    def __len__(self):\n",
        "        return self.total_no\n",
        "\n",
        "    def __getitem__(self, image_no):\n",
        "        img_name = os.path.join(self.root_dir, str(image_no+1)+\".jpg\")\n",
        "        image = Image.open(img_name)\n",
        "        sample = {'image': image, 'category': self.csv_file[image_no]-1}\n",
        "        if self.transform:\n",
        "            sample['image'] = self.transform(sample['image'])\n",
        "        return sample\n",
        "  \n",
        "trainDataset = DataSet('/content/drive/My Drive/HW3_data/train/', \n",
        "                       1888,\n",
        "                       '/content/drive/My Drive/HW3_data/train_labels.csv', \n",
        "                       transforms.Compose([\n",
        "        transforms.RandomResizedCrop(224),\n",
        "        transforms.RandomHorizontalFlip(),\n",
        "        transforms.ToTensor(),\n",
        "        transforms.Normalize([0.485, 0.456, 0.406], [0.229, 0.224, 0.225])\n",
        "    ]))\n",
        "testDataset = DataSet('/content/drive/My Drive/HW3_data/test/', 800, \n",
        "                      '/content/drive/My Drive/HW3_data/test_labels.csv', \n",
        "                      transforms.Compose([\n",
        "        transforms.Resize(256),\n",
        "        transforms.CenterCrop(224),\n",
        "        transforms.ToTensor(),\n",
        "        transforms.Normalize([0.485, 0.456, 0.406], [0.229, 0.224, 0.225])\n",
        "    ]))"
      ],
      "execution_count": 0,
      "outputs": []
    },
    {
      "metadata": {
        "id": "ZIA-vuRu9x7o",
        "colab_type": "text"
      },
      "cell_type": "markdown",
      "source": [
        "##Dataloaders for loading the datasets defined\n",
        "Train and test dataloaders are defined with batch size 4, number of workers 4 and shuffling while loading data has been enabled."
      ]
    },
    {
      "metadata": {
        "id": "lLXmK3kqlmDz",
        "colab_type": "code",
        "colab": {}
      },
      "cell_type": "code",
      "source": [
        "trainDataloader = torch.utils.data.DataLoader(trainDataset, batch_size=4, \n",
        "                                              shuffle=True, num_workers=4)\n",
        "testDataloader = torch.utils.data.DataLoader(testDataset, batch_size=4, \n",
        "                                             shuffle=True, num_workers=4)\n",
        "device = torch.device(\"cuda:0\" if torch.cuda.is_available() else \"cpu\")"
      ],
      "execution_count": 0,
      "outputs": []
    },
    {
      "metadata": {
        "id": "2FBsfIcT-BmH",
        "colab_type": "text"
      },
      "cell_type": "markdown",
      "source": [
        "##Displaying the images\n",
        "The images are displayed along with their classes after loading data"
      ]
    },
    {
      "metadata": {
        "id": "MIyRZwLvOoUu",
        "colab_type": "code",
        "outputId": "843e7d08-6d52-4938-f384-c9aabb426f04",
        "colab": {
          "base_uri": "https://localhost:8080/",
          "height": 148
        }
      },
      "cell_type": "code",
      "source": [
        "def imshow(inp, title=None):\n",
        "    inp = inp.numpy().transpose((1, 2, 0))\n",
        "    mean = np.array([0.485, 0.456, 0.406])\n",
        "    std = np.array([0.229, 0.224, 0.225])\n",
        "    inp = std * inp + mean\n",
        "    inp = np.clip(inp, 0, 1)\n",
        "    plt.imshow(inp)\n",
        "    if title is not None:\n",
        "        plt.title(title)\n",
        "inputs = next(iter(trainDataloader))\n",
        "out = torchvision.utils.make_grid(inputs['image'])\n",
        "imshow(out, title=[int(x) for x in inputs['category']])\n"
      ],
      "execution_count": 0,
      "outputs": [
        {
          "output_type": "display_data",
          "data": {
            "image/png": "[encoded data removed]",
            "text/plain": [
              "<Figure size 432x288 with 1 Axes>"
            ]
          },
          "metadata": {
            "tags": []
          }
        }
      ]
    },
    {
      "metadata": {
        "id": "7bojX3w--RMw",
        "colab_type": "text"
      },
      "cell_type": "markdown",
      "source": [
        "##Loading pretrained Alexnet model\n"
      ]
    },
    {
      "metadata": {
        "id": "xGeHfBzpS-LA",
        "colab_type": "code",
        "outputId": "63f473e8-884a-4183-d6e1-1f84b8c56cfe",
        "colab": {
          "base_uri": "https://localhost:8080/",
          "height": 51
        }
      },
      "cell_type": "code",
      "source": [
        "alexnet = torchvision.models.alexnet(pretrained=True)"
      ],
      "execution_count": 0,
      "outputs": [
        {
          "output_type": "stream",
          "text": [
            "Downloading: \"https://download.pytorch.org/models/alexnet-owt-4df8aa71.pth\" to /root/.torch/models/alexnet-owt-4df8aa71.pth\n",
            "244418560it [00:08, 27452845.75it/s]\n"
          ],
          "name": "stderr"
        }
      ]
    },
    {
      "metadata": {
        "id": "GEKrayzu-aUQ",
        "colab_type": "text"
      },
      "cell_type": "markdown",
      "source": [
        "##Transfer Learning and Fine-tuning\n",
        "All the layers are freezed except the final layer and the number of outputs in final layer is changed to 8."
      ]
    },
    {
      "metadata": {
        "id": "8Hm0MmyyTTZv",
        "colab_type": "code",
        "colab": {}
      },
      "cell_type": "code",
      "source": [
        "for param in alexnet.parameters():\n",
        "  param.requires_grad=False\n",
        "alexnet.classifier[6] = torch.nn.Linear(alexnet.classifier[6].in_features, 8)"
      ],
      "execution_count": 0,
      "outputs": []
    },
    {
      "metadata": {
        "id": "rHhWfMlS-x5a",
        "colab_type": "text"
      },
      "cell_type": "markdown",
      "source": [
        "##Final Alexnet model"
      ]
    },
    {
      "metadata": {
        "id": "YWCfWOyvbIxJ",
        "colab_type": "code",
        "outputId": "971c689e-5218-4caf-ad0a-1644364a6022",
        "colab": {
          "base_uri": "https://localhost:8080/",
          "height": 476
        }
      },
      "cell_type": "code",
      "source": [
        "alexnet.to(device)"
      ],
      "execution_count": 0,
      "outputs": [
        {
          "output_type": "execute_result",
          "data": {
            "text/plain": [
              "AlexNet(\n",
              "  (features): Sequential(\n",
              "    (0): Conv2d(3, 64, kernel_size=(11, 11), stride=(4, 4), padding=(2, 2))\n",
              "    (1): ReLU(inplace)\n",
              "    (2): MaxPool2d(kernel_size=3, stride=2, padding=0, dilation=1, ceil_mode=False)\n",
              "    (3): Conv2d(64, 192, kernel_size=(5, 5), stride=(1, 1), padding=(2, 2))\n",
              "    (4): ReLU(inplace)\n",
              "    (5): MaxPool2d(kernel_size=3, stride=2, padding=0, dilation=1, ceil_mode=False)\n",
              "    (6): Conv2d(192, 384, kernel_size=(3, 3), stride=(1, 1), padding=(1, 1))\n",
              "    (7): ReLU(inplace)\n",
              "    (8): Conv2d(384, 256, kernel_size=(3, 3), stride=(1, 1), padding=(1, 1))\n",
              "    (9): ReLU(inplace)\n",
              "    (10): Conv2d(256, 256, kernel_size=(3, 3), stride=(1, 1), padding=(1, 1))\n",
              "    (11): ReLU(inplace)\n",
              "    (12): MaxPool2d(kernel_size=3, stride=2, padding=0, dilation=1, ceil_mode=False)\n",
              "  )\n",
              "  (avgpool): AdaptiveAvgPool2d(output_size=(6, 6))\n",
              "  (classifier): Sequential(\n",
              "    (0): Dropout(p=0.5)\n",
              "    (1): Linear(in_features=9216, out_features=4096, bias=True)\n",
              "    (2): ReLU(inplace)\n",
              "    (3): Dropout(p=0.5)\n",
              "    (4): Linear(in_features=4096, out_features=4096, bias=True)\n",
              "    (5): ReLU(inplace)\n",
              "    (6): Linear(in_features=4096, out_features=8, bias=True)\n",
              "  )\n",
              ")"
            ]
          },
          "metadata": {
            "tags": []
          },
          "execution_count": 10
        }
      ]
    },
    {
      "metadata": {
        "id": "V7ry5cTQ-5rI",
        "colab_type": "text"
      },
      "cell_type": "markdown",
      "source": [
        "##Defining Optimizer, Loss functions and Learning rate scheduler\n",
        "The optimizer function, loss function and the learning rate scheduler are defined in the following segment of code."
      ]
    },
    {
      "metadata": {
        "id": "eKE8mm_yeoth",
        "colab_type": "code",
        "colab": {}
      },
      "cell_type": "code",
      "source": [
        "Loss = torch.nn.CrossEntropyLoss()\n",
        "Optimizer = torch.optim.Adam(alexnet.parameters(), lr=0.001)\n",
        "exp_lr_scheduler = torch.optim.lr_scheduler.StepLR(Optimizer, step_size=7, gamma=0.1)"
      ],
      "execution_count": 0,
      "outputs": []
    },
    {
      "metadata": {
        "id": "eLXemTaG_HJ-",
        "colab_type": "text"
      },
      "cell_type": "markdown",
      "source": [
        "##Function for running the defined model\n",
        "The function is defined for loading the data for each epoch, outputing the output for the batch and performing backpropagation using the defined optimizer."
      ]
    },
    {
      "metadata": {
        "id": "iXFobgPMh0fk",
        "colab_type": "code",
        "colab": {}
      },
      "cell_type": "code",
      "source": [
        "def run_model(model, epochs, loss, optimizer, trainDataloader, testDataloader):\n",
        "  model.to(device)\n",
        "  for epoch in range(epochs):\n",
        "    current_loss = 0.0\n",
        "    exp_lr_scheduler.step()\n",
        "    for i, data in enumerate(trainDataloader, 0):\n",
        "      images, labels = data['image'], data['category']\n",
        "      images, labels = images.to(device), labels.to(device)\n",
        "      optimizer.zero_grad()\n",
        "      obtained_outputs = model(images)\n",
        "      obtained_loss = loss(obtained_outputs, labels)\n",
        "      obtained_loss.backward()\n",
        "      optimizer.step()\n",
        "      current_loss += obtained_loss.item()\n",
        "      if(i%100 == 99):\n",
        "        print(\"EPOCH:\", epoch+1)\n",
        "        print(\"BATCH:\", i+1)\n",
        "        print(\"LOSS:\", current_loss/100)\n",
        "        print(\"----------------------------\")\n",
        "        current_loss = 0.0\n",
        "  print(\"Training Done!!!\")\n",
        "  model.to(device)\n",
        "  correct = 0\n",
        "  total = 0\n",
        "  with torch.no_grad():\n",
        "    for data in testDataloader:\n",
        "      images, labels = data['image'], data['category']\n",
        "      images, labels = images.to(device), labels.to(device)\n",
        "      outputs = model(images)\n",
        "      predicted_output = torch.argmax(outputs, 1)\n",
        "      correct += (predicted_output == labels).sum().item()\n",
        "      total += labels.size(0)\n",
        "  print(\"Accuracy:\", correct*100/total, \"%\")"
      ],
      "execution_count": 0,
      "outputs": []
    },
    {
      "metadata": {
        "id": "vJsc3Y9t_SOc",
        "colab_type": "text"
      },
      "cell_type": "markdown",
      "source": [
        "##Running the model\n",
        "Resnet model is run for 200 epochs with the defined Cross Entropy Loss and Adam Optimizer."
      ]
    },
    {
      "metadata": {
        "id": "xrSJlOorh2G-",
        "colab_type": "code",
        "colab": {}
      },
      "cell_type": "code",
      "source": [
        "run_model(alexnet, 200, Loss, Optimizer, trainDataloader, testDataloader)"
      ],
      "execution_count": 0,
      "outputs": []
    },
    {
      "metadata": {
        "id": "_L-9z-V9_Var",
        "colab_type": "text"
      },
      "cell_type": "markdown",
      "source": [
        "##Training Accuracy\n",
        "The trained model is run on the train dataset. Accuracy of 93.432% is obtained."
      ]
    },
    {
      "metadata": {
        "id": "LrdFa-LavocT",
        "colab_type": "code",
        "outputId": "f6ce369d-3c01-4b76-f6ba-63036a270d1a",
        "colab": {
          "base_uri": "https://localhost:8080/",
          "height": 34
        }
      },
      "cell_type": "code",
      "source": [
        "correct = 0\n",
        "total = 0\n",
        "with torch.no_grad():\n",
        "  for data in trainDataloader:\n",
        "    images, labels = data['image'], data['category']\n",
        "    images, labels = images.to(device), labels.to(device)\n",
        "    outputs = alexnet(images)\n",
        "    predicted_output = torch.argmax(outputs, 1)\n",
        "    correct += (predicted_output == labels).sum().item()\n",
        "    total += labels.size(0)\n",
        "print(\"Training Accuracy:\", correct*100/total, \"%\")"
      ],
      "execution_count": 0,
      "outputs": [
        {
          "output_type": "stream",
          "text": [
            "Training Accuracy: 93.4322033898305 %\n"
          ],
          "name": "stdout"
        }
      ]
    },
    {
      "metadata": {
        "id": "1cqTQKa2_mqT",
        "colab_type": "text"
      },
      "cell_type": "markdown",
      "source": [
        "## Testing Accuracy\n",
        "The trained model is run on the test dataset. Accuracy of 93.25% is obtained."
      ]
    },
    {
      "metadata": {
        "id": "eyqIVsUK2mxx",
        "colab_type": "code",
        "outputId": "d172c9b0-eca3-4197-fde0-824edbc53454",
        "colab": {
          "base_uri": "https://localhost:8080/",
          "height": 34
        }
      },
      "cell_type": "code",
      "source": [
        "alexnet.to(device)\n",
        "correct = 0\n",
        "total = 0\n",
        "with torch.no_grad():\n",
        "    for data in testDataloader:\n",
        "      images, labels = data['image'], data['category']\n",
        "      images, labels = images.to(device), labels.to(device)\n",
        "      outputs = alexnet(images)\n",
        "      predicted_output = torch.argmax(outputs, 1)\n",
        "      correct += (predicted_output == labels).sum().item()\n",
        "      total += labels.size(0)\n",
        "    print(\"Test Accuracy:\", correct*100/total, \"%\")"
      ],
      "execution_count": 0,
      "outputs": [
        {
          "output_type": "stream",
          "text": [
            "Test Accuracy: 93.25 %\n"
          ],
          "name": "stdout"
        }
      ]
    },
    {
      "metadata": {
        "id": "v8Ob6TN11EoQ",
        "colab_type": "code",
        "colab": {}
      },
      "cell_type": "code",
      "source": [
        ""
      ],
      "execution_count": 0,
      "outputs": []
    }
  ]
}