{
  "nbformat": 4,
  "nbformat_minor": 0,
  "metadata": {
    "colab": {
      "name": "ResNet18.ipynb",
      "version": "0.3.2",
      "provenance": [],
      "collapsed_sections": []
    },
    "kernelspec": {
      "name": "python3",
      "display_name": "Python 3"
    },
    "accelerator": "GPU"
  },
  "cells": [
    {
      "metadata": {
        "id": "pfURHPXIdajp",
        "colab_type": "text"
      },
      "cell_type": "markdown",
      "source": [
        "##Loading Files from drive\n",
        "The command below is to load files from drive"
      ]
    },
    {
      "metadata": {
        "id": "6C1I-phi2olG",
        "colab_type": "code",
        "outputId": "c64b8762-4f87-4820-accc-8a2e8665c466",
        "colab": {
          "base_uri": "https://localhost:8080/",
          "height": 34
        }
      },
      "cell_type": "code",
      "source": [
        "from google.colab import drive\n",
        "drive.mount('/content/drive')"
      ],
      "execution_count": 0,
      "outputs": [
        {
          "output_type": "stream",
          "text": [
            "Drive already mounted at /content/drive; to attempt to forcibly remount, call drive.mount(\"/content/drive\", force_remount=True).\n"
          ],
          "name": "stdout"
        }
      ]
    },
    {
      "metadata": {
        "id": "PWAi7C1vdq67",
        "colab_type": "text"
      },
      "cell_type": "markdown",
      "source": [
        "##Importing Libraries\n",
        "Numpy, Pandas, Torch, PIL, Torchvision, matplotlib and os libraries are imported"
      ]
    },
    {
      "metadata": {
        "id": "3pC8jjQw2zOS",
        "colab_type": "code",
        "colab": {}
      },
      "cell_type": "code",
      "source": [
        "import numpy as np\n",
        "import pandas as pd\n",
        "import os\n",
        "import torch\n",
        "import torchvision\n",
        "from PIL import Image\n",
        "import matplotlib.pyplot as plt\n",
        "from torch.utils.data import Dataset\n",
        "from torchvision import datasets, transforms"
      ],
      "execution_count": 0,
      "outputs": []
    },
    {
      "metadata": {
        "id": "swDnCukGeNBO",
        "colab_type": "text"
      },
      "cell_type": "markdown",
      "source": [
        "##Dataset loading\n",
        "The dataset class is inherited and customized as per the dataset given. RandomResizedCrop, RandomHorizontalFlip are used as data augmentation techniques. The dataset is also normalized to obtain better results."
      ]
    },
    {
      "metadata": {
        "id": "swTn2VD53EgF",
        "colab_type": "code",
        "colab": {}
      },
      "cell_type": "code",
      "source": [
        "class DataSet(Dataset):\n",
        "    def __init__(self, root_dir, total_no, csv_file, transform=None):\n",
        "        self.root_dir = root_dir\n",
        "        self.transform = transform\n",
        "        self.total_no = total_no\n",
        "        self.csv_file = np.array(pd.read_csv(csv_file, header=None))[0]\n",
        "\n",
        "    def __len__(self):\n",
        "        return self.total_no\n",
        "\n",
        "    def __getitem__(self, image_no):\n",
        "        img_name = os.path.join(self.root_dir, str(image_no+1)+\".jpg\")\n",
        "        image = Image.open(img_name)\n",
        "        sample = {'image': image, 'category': self.csv_file[image_no]-1}\n",
        "        if self.transform:\n",
        "            sample['image'] = self.transform(sample['image'])\n",
        "        return sample\n",
        "  \n",
        "trainDataset = DataSet('/content/drive/My Drive/HW3_data/train/', \n",
        "                       1888,\n",
        "                       '/content/drive/My Drive/HW3_data/train_labels.csv', \n",
        "                       transforms.Compose([\n",
        "        transforms.RandomResizedCrop(224),\n",
        "        transforms.RandomHorizontalFlip(),\n",
        "        transforms.ToTensor(),\n",
        "        transforms.Normalize([0.485, 0.456, 0.406], [0.229, 0.224, 0.225])\n",
        "    ]))\n",
        "testDataset = DataSet('/content/drive/My Drive/HW3_data/test/', \n",
        "                      800, \n",
        "                      '/content/drive/My Drive/HW3_data/test_labels.csv', \n",
        "                      transforms.Compose([\n",
        "        transforms.Resize(256),\n",
        "        transforms.CenterCrop(224),\n",
        "        transforms.ToTensor(),\n",
        "        transforms.Normalize([0.485, 0.456, 0.406], [0.229, 0.224, 0.225])\n",
        "    ]))"
      ],
      "execution_count": 0,
      "outputs": []
    },
    {
      "metadata": {
        "id": "VHjs1GKFes9j",
        "colab_type": "text"
      },
      "cell_type": "markdown",
      "source": [
        "##Dataloaders for loading the datasets defined\n",
        "Train and test dataloaders are defined with batch size 4, number of workers 4 and shuffling while loading data has been enabled."
      ]
    },
    {
      "metadata": {
        "id": "wev7Qf2-3KCe",
        "colab_type": "code",
        "colab": {}
      },
      "cell_type": "code",
      "source": [
        "trainDataloader = torch.utils.data.DataLoader(trainDataset, batch_size=4,\n",
        "                                              shuffle=True, num_workers=4)\n",
        "testDataloader = torch.utils.data.DataLoader(testDataset, batch_size=4,\n",
        "                                             shuffle=True, num_workers=4)\n",
        "device = torch.device(\"cuda:0\" if torch.cuda.is_available() else \"cpu\")"
      ],
      "execution_count": 0,
      "outputs": []
    },
    {
      "metadata": {
        "id": "mJS0ovTsfGXb",
        "colab_type": "text"
      },
      "cell_type": "markdown",
      "source": [
        "##Displaying the images\n",
        "The images are displayed along with their classes after loading data"
      ]
    },
    {
      "metadata": {
        "id": "OQ0GrjTi3n6T",
        "colab_type": "code",
        "outputId": "e90c8ef2-f6fd-4b2d-959f-668f25dcdf05",
        "colab": {
          "base_uri": "https://localhost:8080/",
          "height": 148
        }
      },
      "cell_type": "code",
      "source": [
        "def imshow(inp, title=None):\n",
        "    inp = inp.numpy().transpose((1, 2, 0))\n",
        "    mean = np.array([0.485, 0.456, 0.406])\n",
        "    std = np.array([0.229, 0.224, 0.225])\n",
        "    inp = std * inp + mean\n",
        "    inp = np.clip(inp, 0, 1)\n",
        "    plt.imshow(inp)\n",
        "    if title is not None:\n",
        "        plt.title(title)\n",
        "inputs = next(iter(trainDataloader))\n",
        "out = torchvision.utils.make_grid(inputs['image'])\n",
        "imshow(out, title=[int(x) for x in inputs['category']])\n"
      ],
      "execution_count": 0,
      "outputs": [
        {
          "output_type": "display_data",
          "data": {
            "image/png": "[encoded data removed]",
            "text/plain": [
              "<Figure size 432x288 with 1 Axes>"
            ]
          },
          "metadata": {
            "tags": []
          }
        }
      ]
    },
    {
      "metadata": {
        "id": "S5dLEUKtfrRO",
        "colab_type": "text"
      },
      "cell_type": "markdown",
      "source": [
        "##Defining the ResNet18 model\n",
        "The 18 layers for ResNet has been built as follows consisting of 4 blocks each consisting of 2 similar blocks each having 2 convolution layers. The input image is immediately passed into a convolution layer followed by these 4 blocks and then finally into a fully connected layer leading to 18 layers."
      ]
    },
    {
      "metadata": {
        "id": "XQ-67FtO7sVf",
        "colab_type": "code",
        "colab": {}
      },
      "cell_type": "code",
      "source": [
        "class BasicBlock(torch.nn.Module):\n",
        "  def __init__(self, in_filters, out_filters, stride=1, downsample=None):\n",
        "    super(BasicBlock, self).__init__()\n",
        "    \n",
        "    self.conv1 = torch.nn.Conv2d(in_filters, out_filters, 3, stride, 1, bias = False)\n",
        "    self.bn1 = torch.nn.BatchNorm2d(out_filters)\n",
        "    self.relu = torch.nn.ReLU(inplace = True)\n",
        "    \n",
        "    self.conv2 = torch.nn.Conv2d(out_filters, out_filters, 3, 1, 1, bias = False)\n",
        "    self.bn2 = torch.nn.BatchNorm2d(out_filters)\n",
        "    \n",
        "    self.downsample = downsample\n",
        "    self.stride = stride\n",
        "  def forward(self, inp):\n",
        "    previous_inp = inp\n",
        "    output = self.conv1(inp)\n",
        "    output = self.bn1(output)\n",
        "    output = self.relu(output)\n",
        "    output = self.conv2(output)\n",
        "    output = self.bn2(output)\n",
        "    if(self.downsample is not None):\n",
        "      previous_inp = self.downsample(inp)\n",
        "    output += previous_inp\n",
        "    output = self.relu(output)\n",
        "    return output\n",
        "    \n",
        "    \n",
        "class ResNet18(torch.nn.Module):\n",
        "  def __init__(self, num_classes=8):\n",
        "    super(ResNet18, self).__init__()\n",
        "    self.inplanes = 64\n",
        "    self.conv1 = torch.nn.Conv2d(3, self.inplanes, 7, 2, 3, bias = False)\n",
        "    self.bn1 = torch.nn.BatchNorm2d(self.inplanes)\n",
        "    self.relu = torch.nn.ReLU(inplace = True)\n",
        "    self.maxpool = torch.nn.MaxPool2d(3, 2, 1)\n",
        "    \n",
        "    self.layer1 = self._make_layer(64, 2)\n",
        "    self.layer2 = self._make_layer(128, 2, stride = 2)\n",
        "    self.layer3 = self._make_layer(256, 2, stride = 2)\n",
        "    self.layer4 = self._make_layer(512, 2, stride = 2)\n",
        "    \n",
        "    self.avgpool = torch.nn.AdaptiveAvgPool2d((1, 1))\n",
        "    self.fc = torch.nn.Linear(512, num_classes)\n",
        "    \n",
        "    for module in self.modules():\n",
        "      if isinstance(module, torch.nn.Conv2d):\n",
        "        torch.nn.init.kaiming_normal_(module.weight, mode='fan_out',\n",
        "                                      nonlinearity='relu')\n",
        "      elif isinstance(module, torch.nn.BatchNorm2d):\n",
        "        torch.nn.init.constant_(module.weight, 1)\n",
        "        torch.nn.init.constant_(module.bias, 0)\n",
        "    \n",
        "  def _make_layer(self, out_planes, blocks, stride = 1):\n",
        "    downsample = None\n",
        "    if(stride != 1 or out_planes != self.inplanes):\n",
        "      downsample = torch.nn.Sequential(\n",
        "          torch.nn.Conv2d(self.inplanes, out_planes, kernel_size=1, \n",
        "                          stride=stride, bias = False),\n",
        "          torch.nn.BatchNorm2d(out_planes)\n",
        "      )\n",
        "    layers = []\n",
        "    layers.append(BasicBlock(self.inplanes, out_planes, stride, downsample))\n",
        "    self.inplanes = out_planes\n",
        "    for _ in range(1, blocks):\n",
        "      layers.append(BasicBlock(self.inplanes, out_planes))\n",
        "    return torch.nn.Sequential(*layers)\n",
        "  \n",
        "  def forward(self, inp):\n",
        "    inp = self.conv1(inp)\n",
        "    inp = self.bn1(inp)\n",
        "    inp = self.relu(inp)\n",
        "    inp = self.maxpool(inp)\n",
        "    \n",
        "    inp = self.layer1(inp)\n",
        "    inp = self.layer2(inp)\n",
        "    inp = self.layer3(inp)\n",
        "    inp = self.layer4(inp)\n",
        "    \n",
        "    inp = self.avgpool(inp)\n",
        "    inp = inp.view(inp.size(0), -1)\n",
        "    inp = self.fc(inp)\n",
        "    \n",
        "    return inp\n",
        "    "
      ],
      "execution_count": 0,
      "outputs": []
    },
    {
      "metadata": {
        "id": "YHHejbg6hGH4",
        "colab_type": "text"
      },
      "cell_type": "markdown",
      "source": [
        "##Printing the ResNet model\n",
        "The ResNet architecture is shifted to CUDA(GPU) and is printed in the following lines."
      ]
    },
    {
      "metadata": {
        "id": "SDPY-Rk7SQFk",
        "colab_type": "code",
        "outputId": "02f3dcd4-d042-40d7-e395-0d61dda3c7c1",
        "colab": {
          "base_uri": "https://localhost:8080/",
          "height": 1445
        }
      },
      "cell_type": "code",
      "source": [
        "myResnet = ResNet18().to(device)\n",
        "print(myResnet)"
      ],
      "execution_count": 0,
      "outputs": [
        {
          "output_type": "stream",
          "text": [
            "ResNet18(\n",
            "  (conv1): Conv2d(3, 64, kernel_size=(7, 7), stride=(2, 2), padding=(3, 3), bias=False)\n",
            "  (bn1): BatchNorm2d(64, eps=1e-05, momentum=0.1, affine=True, track_running_stats=True)\n",
            "  (relu): ReLU(inplace)\n",
            "  (maxpool): MaxPool2d(kernel_size=3, stride=2, padding=1, dilation=1, ceil_mode=False)\n",
            "  (layer1): Sequential(\n",
            "    (0): BasicBlock(\n",
            "      (conv1): Conv2d(64, 64, kernel_size=(3, 3), stride=(1, 1), padding=(1, 1), bias=False)\n",
            "      (bn1): BatchNorm2d(64, eps=1e-05, momentum=0.1, affine=True, track_running_stats=True)\n",
            "      (relu): ReLU(inplace)\n",
            "      (conv2): Conv2d(64, 64, kernel_size=(3, 3), stride=(1, 1), padding=(1, 1), bias=False)\n",
            "      (bn2): BatchNorm2d(64, eps=1e-05, momentum=0.1, affine=True, track_running_stats=True)\n",
            "    )\n",
            "    (1): BasicBlock(\n",
            "      (conv1): Conv2d(64, 64, kernel_size=(3, 3), stride=(1, 1), padding=(1, 1), bias=False)\n",
            "      (bn1): BatchNorm2d(64, eps=1e-05, momentum=0.1, affine=True, track_running_stats=True)\n",
            "      (relu): ReLU(inplace)\n",
            "      (conv2): Conv2d(64, 64, kernel_size=(3, 3), stride=(1, 1), padding=(1, 1), bias=False)\n",
            "      (bn2): BatchNorm2d(64, eps=1e-05, momentum=0.1, affine=True, track_running_stats=True)\n",
            "    )\n",
            "  )\n",
            "  (layer2): Sequential(\n",
            "    (0): BasicBlock(\n",
            "      (conv1): Conv2d(64, 128, kernel_size=(3, 3), stride=(2, 2), padding=(1, 1), bias=False)\n",
            "      (bn1): BatchNorm2d(128, eps=1e-05, momentum=0.1, affine=True, track_running_stats=True)\n",
            "      (relu): ReLU(inplace)\n",
            "      (conv2): Conv2d(128, 128, kernel_size=(3, 3), stride=(1, 1), padding=(1, 1), bias=False)\n",
            "      (bn2): BatchNorm2d(128, eps=1e-05, momentum=0.1, affine=True, track_running_stats=True)\n",
            "      (downsample): Sequential(\n",
            "        (0): Conv2d(64, 128, kernel_size=(1, 1), stride=(2, 2), bias=False)\n",
            "        (1): BatchNorm2d(128, eps=1e-05, momentum=0.1, affine=True, track_running_stats=True)\n",
            "      )\n",
            "    )\n",
            "    (1): BasicBlock(\n",
            "      (conv1): Conv2d(128, 128, kernel_size=(3, 3), stride=(1, 1), padding=(1, 1), bias=False)\n",
            "      (bn1): BatchNorm2d(128, eps=1e-05, momentum=0.1, affine=True, track_running_stats=True)\n",
            "      (relu): ReLU(inplace)\n",
            "      (conv2): Conv2d(128, 128, kernel_size=(3, 3), stride=(1, 1), padding=(1, 1), bias=False)\n",
            "      (bn2): BatchNorm2d(128, eps=1e-05, momentum=0.1, affine=True, track_running_stats=True)\n",
            "    )\n",
            "  )\n",
            "  (layer3): Sequential(\n",
            "    (0): BasicBlock(\n",
            "      (conv1): Conv2d(128, 256, kernel_size=(3, 3), stride=(2, 2), padding=(1, 1), bias=False)\n",
            "      (bn1): BatchNorm2d(256, eps=1e-05, momentum=0.1, affine=True, track_running_stats=True)\n",
            "      (relu): ReLU(inplace)\n",
            "      (conv2): Conv2d(256, 256, kernel_size=(3, 3), stride=(1, 1), padding=(1, 1), bias=False)\n",
            "      (bn2): BatchNorm2d(256, eps=1e-05, momentum=0.1, affine=True, track_running_stats=True)\n",
            "      (downsample): Sequential(\n",
            "        (0): Conv2d(128, 256, kernel_size=(1, 1), stride=(2, 2), bias=False)\n",
            "        (1): BatchNorm2d(256, eps=1e-05, momentum=0.1, affine=True, track_running_stats=True)\n",
            "      )\n",
            "    )\n",
            "    (1): BasicBlock(\n",
            "      (conv1): Conv2d(256, 256, kernel_size=(3, 3), stride=(1, 1), padding=(1, 1), bias=False)\n",
            "      (bn1): BatchNorm2d(256, eps=1e-05, momentum=0.1, affine=True, track_running_stats=True)\n",
            "      (relu): ReLU(inplace)\n",
            "      (conv2): Conv2d(256, 256, kernel_size=(3, 3), stride=(1, 1), padding=(1, 1), bias=False)\n",
            "      (bn2): BatchNorm2d(256, eps=1e-05, momentum=0.1, affine=True, track_running_stats=True)\n",
            "    )\n",
            "  )\n",
            "  (layer4): Sequential(\n",
            "    (0): BasicBlock(\n",
            "      (conv1): Conv2d(256, 512, kernel_size=(3, 3), stride=(2, 2), padding=(1, 1), bias=False)\n",
            "      (bn1): BatchNorm2d(512, eps=1e-05, momentum=0.1, affine=True, track_running_stats=True)\n",
            "      (relu): ReLU(inplace)\n",
            "      (conv2): Conv2d(512, 512, kernel_size=(3, 3), stride=(1, 1), padding=(1, 1), bias=False)\n",
            "      (bn2): BatchNorm2d(512, eps=1e-05, momentum=0.1, affine=True, track_running_stats=True)\n",
            "      (downsample): Sequential(\n",
            "        (0): Conv2d(256, 512, kernel_size=(1, 1), stride=(2, 2), bias=False)\n",
            "        (1): BatchNorm2d(512, eps=1e-05, momentum=0.1, affine=True, track_running_stats=True)\n",
            "      )\n",
            "    )\n",
            "    (1): BasicBlock(\n",
            "      (conv1): Conv2d(512, 512, kernel_size=(3, 3), stride=(1, 1), padding=(1, 1), bias=False)\n",
            "      (bn1): BatchNorm2d(512, eps=1e-05, momentum=0.1, affine=True, track_running_stats=True)\n",
            "      (relu): ReLU(inplace)\n",
            "      (conv2): Conv2d(512, 512, kernel_size=(3, 3), stride=(1, 1), padding=(1, 1), bias=False)\n",
            "      (bn2): BatchNorm2d(512, eps=1e-05, momentum=0.1, affine=True, track_running_stats=True)\n",
            "    )\n",
            "  )\n",
            "  (avgpool): AdaptiveAvgPool2d(output_size=(1, 1))\n",
            "  (fc): Linear(in_features=512, out_features=8, bias=True)\n",
            ")\n"
          ],
          "name": "stdout"
        }
      ]
    },
    {
      "metadata": {
        "id": "wF6W9dsehe60",
        "colab_type": "text"
      },
      "cell_type": "markdown",
      "source": [
        "##Defining Optimizer, Loss functions and Learning rate scheduler\n",
        "The optimizer function, loss function and the learning rate scheduler are defined in the following segment of code."
      ]
    },
    {
      "metadata": {
        "id": "lWv80UEX53Xv",
        "colab_type": "code",
        "colab": {}
      },
      "cell_type": "code",
      "source": [
        "Loss = torch.nn.CrossEntropyLoss()\n",
        "Optimizer = torch.optim.Adam(myResnet.parameters(), lr=0.01)\n",
        "exp_lr_scheduler = torch.optim.lr_scheduler.StepLR(Optimizer, step_size=2, gamma=0.9)"
      ],
      "execution_count": 0,
      "outputs": []
    },
    {
      "metadata": {
        "id": "lkEhPGFMh9g6",
        "colab_type": "text"
      },
      "cell_type": "markdown",
      "source": [
        "##Function for running the defined model\n",
        "The function is defined for loading the data for each epoch, outputing the output for the batch and performing backpropagation using the defined optimizer."
      ]
    },
    {
      "metadata": {
        "id": "-4CY13Ef6AKZ",
        "colab_type": "code",
        "colab": {}
      },
      "cell_type": "code",
      "source": [
        "def run_model(model, epochs, loss, optimizer, trainDataloader, testDataloader):\n",
        "  model.to(device)\n",
        "  for epoch in range(epochs):\n",
        "    current_loss = 0.0\n",
        "    exp_lr_scheduler.step()\n",
        "    for i, data in enumerate(trainDataloader, 0):\n",
        "      images, labels = data['image'], data['category']\n",
        "      images, labels = images.to(device), labels.to(device)\n",
        "      optimizer.zero_grad()\n",
        "      obtained_outputs = model(images)\n",
        "      obtained_loss = loss(obtained_outputs, labels)\n",
        "      obtained_loss.backward()\n",
        "      optimizer.step()\n",
        "      current_loss += obtained_loss.item()\n",
        "      if(i%100 == 99):\n",
        "        print(\"EPOCH:\", epoch+1)\n",
        "        print(\"BATCH:\", i+1)\n",
        "        print(\"LOSS:\", current_loss/100)\n",
        "        print(\"----------------------------\")\n",
        "        current_loss = 0.0\n",
        "  print(\"Training Done!!!\")\n",
        "  correct = 0\n",
        "  total = 0\n",
        "  with torch.no_grad():\n",
        "    for data in testDataloader:\n",
        "      images, labels = data['image'], data['category']\n",
        "      images, labels = images.to(device), labels.to(device)\n",
        "      outputs = model(images)\n",
        "      predicted_output = torch.argmax(outputs, 1)\n",
        "      correct += (predicted_output == labels).sum().item()\n",
        "      total += labels.size(0)\n",
        "  print(\"Accuracy:\", correct*100/total, \"%\")"
      ],
      "execution_count": 0,
      "outputs": []
    },
    {
      "metadata": {
        "id": "74hIMfo8keao",
        "colab_type": "text"
      },
      "cell_type": "markdown",
      "source": [
        "##Running the model\n",
        "Resnet model is run for 200 epochs with the defined Cross Entropy Loss and Adam Optimizer."
      ]
    },
    {
      "metadata": {
        "id": "nPdHamN56ORF",
        "colab_type": "code",
        "colab": {}
      },
      "cell_type": "code",
      "source": [
        "run_model(myResnet, 200, Loss, Optimizer, trainDataloader, testDataloader)"
      ],
      "execution_count": 0,
      "outputs": []
    },
    {
      "metadata": {
        "id": "o7tzLNeFlE1g",
        "colab_type": "text"
      },
      "cell_type": "markdown",
      "source": [
        "##Training Accuracy\n",
        "The trained model is run on the train dataset. Accuracy of 88.88% is obtained."
      ]
    },
    {
      "metadata": {
        "id": "sx0tR9r-3GBn",
        "colab_type": "code",
        "outputId": "b81c1f0e-8d65-4ab8-83be-0cb076500732",
        "colab": {
          "base_uri": "https://localhost:8080/",
          "height": 34
        }
      },
      "cell_type": "code",
      "source": [
        "correct = 0\n",
        "total = 0\n",
        "with torch.no_grad():\n",
        "  for data in trainDataloader:\n",
        "    images, labels = data['image'], data['category']\n",
        "    images, labels = images.to(device), labels.to(device)\n",
        "    outputs = myResnet(images)\n",
        "    predicted_output = torch.argmax(outputs, 1)\n",
        "    correct += (predicted_output == labels).sum().item()\n",
        "    total += labels.size(0)\n",
        "print(\"Training Accuracy:\", correct*100/total, \"%\")"
      ],
      "execution_count": 0,
      "outputs": [
        {
          "output_type": "stream",
          "text": [
            "Training Accuracy: 88.87711864406779 %\n"
          ],
          "name": "stdout"
        }
      ]
    },
    {
      "metadata": {
        "id": "BVPWsImVl8-N",
        "colab_type": "text"
      },
      "cell_type": "markdown",
      "source": [
        "## Testing Accuracy\n",
        "The trained model is run on the test dataset. Accuracy of 90.375% is obtained."
      ]
    },
    {
      "metadata": {
        "id": "oR5qVfNr05Af",
        "colab_type": "code",
        "outputId": "1052c8a2-9bb3-4826-d920-1f968af9e96d",
        "colab": {
          "base_uri": "https://localhost:8080/",
          "height": 34
        }
      },
      "cell_type": "code",
      "source": [
        "correct = 0\n",
        "total = 0\n",
        "with torch.no_grad():\n",
        "  for data in testDataloader:\n",
        "    images, labels = data['image'], data['category']\n",
        "    images, labels = images.to(device), labels.to(device)\n",
        "    outputs = myResnet(images)\n",
        "    predicted_output = torch.argmax(outputs, 1)\n",
        "    correct += (predicted_output == labels).sum().item()\n",
        "    total += labels.size(0)\n",
        "print(\"Test Accuracy:\", correct*100/total, \"%\")"
      ],
      "execution_count": 0,
      "outputs": [
        {
          "output_type": "stream",
          "text": [
            "Test Accuracy: 90.375 %\n"
          ],
          "name": "stdout"
        }
      ]
    },
    {
      "metadata": {
        "id": "oCYJ4gOompir",
        "colab_type": "text"
      },
      "cell_type": "markdown",
      "source": [
        "##Loading the CIFAR10 dataset\n",
        "The train dataset and test dataset are loaded and appropriate transformations are applied.  The dataloaders are also loaded with batch size 256 and number of workers=2"
      ]
    },
    {
      "metadata": {
        "id": "8MQsVfil3L7w",
        "colab_type": "code",
        "outputId": "5e4f2916-3f02-4192-f8e4-ed7db871e6bc",
        "colab": {
          "base_uri": "https://localhost:8080/",
          "height": 51
        }
      },
      "cell_type": "code",
      "source": [
        "cifarTrainSet = torchvision.datasets.CIFAR10(root='./data', train=True, \n",
        "                                             download = True, \n",
        "                                             transform = transforms.Compose([\n",
        "                                                  transforms.RandomHorizontalFlip(),\n",
        "                                                  transforms.ToTensor(),\n",
        "                                                  transforms.Normalize((0.5, 0.5, 0.5), \n",
        "                                                                       (0.5, 0.5, 0.5))]))\n",
        "cifarTestSet = torchvision.datasets.CIFAR10(root='./data', train=False,\n",
        "                                           download = True,\n",
        "                                           transform = transforms.Compose([\n",
        "                                               transforms.RandomHorizontalFlip(),\n",
        "                                               transforms.ToTensor(),\n",
        "                                               transforms.Normalize((0.5, 0.5, 0.5),\n",
        "                                                                   (0.5, 0.5, 0.5))\n",
        "                                           ]))\n",
        "cifarTrainLoader = torch.utils.data.DataLoader(cifarTrainSet, batch_size=256,\n",
        "                                              shuffle=True, num_workers=2)\n",
        "cifarTestLoader = torch.utils.data.DataLoader(cifarTestSet, batch_size=256,\n",
        "                                              shuffle=False, num_workers=2)\n",
        "classes = ('plane', 'car', 'bird', 'cat',\n",
        "           'deer', 'dog', 'frog', 'horse', 'ship', 'truck')\n"
      ],
      "execution_count": 0,
      "outputs": [
        {
          "output_type": "stream",
          "text": [
            "Files already downloaded and verified\n",
            "Files already downloaded and verified\n"
          ],
          "name": "stdout"
        }
      ]
    },
    {
      "metadata": {
        "id": "QuAK8Rje0_2g",
        "colab_type": "text"
      },
      "cell_type": "markdown",
      "source": [
        "##Configuring Resnet18\n",
        "The Resnet18 is configured as per CIFAR10 dataset with 10 nodes in the final layer, representing probabilities for each output."
      ]
    },
    {
      "metadata": {
        "id": "eB78hDaa73W0",
        "colab_type": "code",
        "outputId": "e6347fda-06d7-4fb8-d629-3b0487ea6d41",
        "colab": {
          "base_uri": "https://localhost:8080/",
          "height": 1445
        }
      },
      "cell_type": "code",
      "source": [
        "cifarResnet = ResNet18(num_classes=10).to(device)\n",
        "print(cifarResnet)"
      ],
      "execution_count": 0,
      "outputs": [
        {
          "output_type": "stream",
          "text": [
            "ResNet18(\n",
            "  (conv1): Conv2d(3, 64, kernel_size=(7, 7), stride=(2, 2), padding=(3, 3), bias=False)\n",
            "  (bn1): BatchNorm2d(64, eps=1e-05, momentum=0.1, affine=True, track_running_stats=True)\n",
            "  (relu): ReLU(inplace)\n",
            "  (maxpool): MaxPool2d(kernel_size=3, stride=2, padding=1, dilation=1, ceil_mode=False)\n",
            "  (layer1): Sequential(\n",
            "    (0): BasicBlock(\n",
            "      (conv1): Conv2d(64, 64, kernel_size=(3, 3), stride=(1, 1), padding=(1, 1), bias=False)\n",
            "      (bn1): BatchNorm2d(64, eps=1e-05, momentum=0.1, affine=True, track_running_stats=True)\n",
            "      (relu): ReLU(inplace)\n",
            "      (conv2): Conv2d(64, 64, kernel_size=(3, 3), stride=(1, 1), padding=(1, 1), bias=False)\n",
            "      (bn2): BatchNorm2d(64, eps=1e-05, momentum=0.1, affine=True, track_running_stats=True)\n",
            "    )\n",
            "    (1): BasicBlock(\n",
            "      (conv1): Conv2d(64, 64, kernel_size=(3, 3), stride=(1, 1), padding=(1, 1), bias=False)\n",
            "      (bn1): BatchNorm2d(64, eps=1e-05, momentum=0.1, affine=True, track_running_stats=True)\n",
            "      (relu): ReLU(inplace)\n",
            "      (conv2): Conv2d(64, 64, kernel_size=(3, 3), stride=(1, 1), padding=(1, 1), bias=False)\n",
            "      (bn2): BatchNorm2d(64, eps=1e-05, momentum=0.1, affine=True, track_running_stats=True)\n",
            "    )\n",
            "  )\n",
            "  (layer2): Sequential(\n",
            "    (0): BasicBlock(\n",
            "      (conv1): Conv2d(64, 128, kernel_size=(3, 3), stride=(2, 2), padding=(1, 1), bias=False)\n",
            "      (bn1): BatchNorm2d(128, eps=1e-05, momentum=0.1, affine=True, track_running_stats=True)\n",
            "      (relu): ReLU(inplace)\n",
            "      (conv2): Conv2d(128, 128, kernel_size=(3, 3), stride=(1, 1), padding=(1, 1), bias=False)\n",
            "      (bn2): BatchNorm2d(128, eps=1e-05, momentum=0.1, affine=True, track_running_stats=True)\n",
            "      (downsample): Sequential(\n",
            "        (0): Conv2d(64, 128, kernel_size=(1, 1), stride=(2, 2), bias=False)\n",
            "        (1): BatchNorm2d(128, eps=1e-05, momentum=0.1, affine=True, track_running_stats=True)\n",
            "      )\n",
            "    )\n",
            "    (1): BasicBlock(\n",
            "      (conv1): Conv2d(128, 128, kernel_size=(3, 3), stride=(1, 1), padding=(1, 1), bias=False)\n",
            "      (bn1): BatchNorm2d(128, eps=1e-05, momentum=0.1, affine=True, track_running_stats=True)\n",
            "      (relu): ReLU(inplace)\n",
            "      (conv2): Conv2d(128, 128, kernel_size=(3, 3), stride=(1, 1), padding=(1, 1), bias=False)\n",
            "      (bn2): BatchNorm2d(128, eps=1e-05, momentum=0.1, affine=True, track_running_stats=True)\n",
            "    )\n",
            "  )\n",
            "  (layer3): Sequential(\n",
            "    (0): BasicBlock(\n",
            "      (conv1): Conv2d(128, 256, kernel_size=(3, 3), stride=(2, 2), padding=(1, 1), bias=False)\n",
            "      (bn1): BatchNorm2d(256, eps=1e-05, momentum=0.1, affine=True, track_running_stats=True)\n",
            "      (relu): ReLU(inplace)\n",
            "      (conv2): Conv2d(256, 256, kernel_size=(3, 3), stride=(1, 1), padding=(1, 1), bias=False)\n",
            "      (bn2): BatchNorm2d(256, eps=1e-05, momentum=0.1, affine=True, track_running_stats=True)\n",
            "      (downsample): Sequential(\n",
            "        (0): Conv2d(128, 256, kernel_size=(1, 1), stride=(2, 2), bias=False)\n",
            "        (1): BatchNorm2d(256, eps=1e-05, momentum=0.1, affine=True, track_running_stats=True)\n",
            "      )\n",
            "    )\n",
            "    (1): BasicBlock(\n",
            "      (conv1): Conv2d(256, 256, kernel_size=(3, 3), stride=(1, 1), padding=(1, 1), bias=False)\n",
            "      (bn1): BatchNorm2d(256, eps=1e-05, momentum=0.1, affine=True, track_running_stats=True)\n",
            "      (relu): ReLU(inplace)\n",
            "      (conv2): Conv2d(256, 256, kernel_size=(3, 3), stride=(1, 1), padding=(1, 1), bias=False)\n",
            "      (bn2): BatchNorm2d(256, eps=1e-05, momentum=0.1, affine=True, track_running_stats=True)\n",
            "    )\n",
            "  )\n",
            "  (layer4): Sequential(\n",
            "    (0): BasicBlock(\n",
            "      (conv1): Conv2d(256, 512, kernel_size=(3, 3), stride=(2, 2), padding=(1, 1), bias=False)\n",
            "      (bn1): BatchNorm2d(512, eps=1e-05, momentum=0.1, affine=True, track_running_stats=True)\n",
            "      (relu): ReLU(inplace)\n",
            "      (conv2): Conv2d(512, 512, kernel_size=(3, 3), stride=(1, 1), padding=(1, 1), bias=False)\n",
            "      (bn2): BatchNorm2d(512, eps=1e-05, momentum=0.1, affine=True, track_running_stats=True)\n",
            "      (downsample): Sequential(\n",
            "        (0): Conv2d(256, 512, kernel_size=(1, 1), stride=(2, 2), bias=False)\n",
            "        (1): BatchNorm2d(512, eps=1e-05, momentum=0.1, affine=True, track_running_stats=True)\n",
            "      )\n",
            "    )\n",
            "    (1): BasicBlock(\n",
            "      (conv1): Conv2d(512, 512, kernel_size=(3, 3), stride=(1, 1), padding=(1, 1), bias=False)\n",
            "      (bn1): BatchNorm2d(512, eps=1e-05, momentum=0.1, affine=True, track_running_stats=True)\n",
            "      (relu): ReLU(inplace)\n",
            "      (conv2): Conv2d(512, 512, kernel_size=(3, 3), stride=(1, 1), padding=(1, 1), bias=False)\n",
            "      (bn2): BatchNorm2d(512, eps=1e-05, momentum=0.1, affine=True, track_running_stats=True)\n",
            "    )\n",
            "  )\n",
            "  (avgpool): AdaptiveAvgPool2d(output_size=(1, 1))\n",
            "  (fc): Linear(in_features=512, out_features=10, bias=True)\n",
            ")\n"
          ],
          "name": "stdout"
        }
      ]
    },
    {
      "metadata": {
        "id": "uEIiVbBJ1iGQ",
        "colab_type": "text"
      },
      "cell_type": "markdown",
      "source": [
        "## Loss function  and optimizer\n",
        "The loss function and optimizer are defined for the new model of Resnet as follows:\n"
      ]
    },
    {
      "metadata": {
        "id": "ltbJdZCw802t",
        "colab_type": "code",
        "colab": {}
      },
      "cell_type": "code",
      "source": [
        "Loss = torch.nn.CrossEntropyLoss()\n",
        "Optimizer = torch.optim.Adam(cifarResnet.parameters(), lr=0.01)"
      ],
      "execution_count": 0,
      "outputs": []
    },
    {
      "metadata": {
        "id": "LEWijnc62JGK",
        "colab_type": "text"
      },
      "cell_type": "markdown",
      "source": [
        "##Function for running the new  model\n",
        "The function is defined for loading CIFAR10 data for each epoch, outputing the output for the batch and performing backpropagation using the defined optimizer.\n"
      ]
    },
    {
      "metadata": {
        "id": "j502GMp39IoL",
        "colab_type": "code",
        "colab": {}
      },
      "cell_type": "code",
      "source": [
        "def run_model(model, epochs, loss, optimizer, trainDataloader, testDataloader):\n",
        "  model.to(device)\n",
        "  for epoch in range(epochs):\n",
        "    current_loss = 0.0\n",
        "    for i, data in enumerate(trainDataloader, 0):\n",
        "      images, labels = data\n",
        "      images, labels = images.to(device), labels.to(device)\n",
        "      optimizer.zero_grad()\n",
        "      obtained_outputs = model(images)\n",
        "      obtained_loss = loss(obtained_outputs, labels)\n",
        "      obtained_loss.backward()\n",
        "      optimizer.step()\n",
        "      current_loss += obtained_loss.item()\n",
        "      if(i%100 == 99):\n",
        "        print(\"EPOCH:\", epoch+1)\n",
        "        print(\"BATCH:\", i+1)\n",
        "        print(\"LOSS:\", current_loss/100)\n",
        "        print(\"----------------------------\")\n",
        "        current_loss = 0.0\n",
        "  print(\"Training Done!!!\")\n",
        "  correct = 0\n",
        "  total = 0\n",
        "  with torch.no_grad():\n",
        "    for data in testDataloader:\n",
        "      images, labels = data\n",
        "      images, labels = images.to(device), labels.to(device)\n",
        "      outputs = model(images)\n",
        "      predicted_output = torch.argmax(outputs, 1)\n",
        "      correct += (predicted_output == labels).sum().item()\n",
        "      total += labels.size(0)\n",
        "  print(\"Accuracy:\", correct*100/total, \"%\")"
      ],
      "execution_count": 0,
      "outputs": []
    },
    {
      "metadata": {
        "id": "W-D0tnVL2nJj",
        "colab_type": "text"
      },
      "cell_type": "markdown",
      "source": [
        "## Running the model\n",
        "Resnet model is run for 20 epochs with the defined Cross Entropy Loss and Adam Optimizer."
      ]
    },
    {
      "metadata": {
        "id": "O2XE1Gv68X52",
        "colab_type": "code",
        "colab": {}
      },
      "cell_type": "code",
      "source": [
        "run_model(cifarResnet, 20, Loss, Optimizer, cifarTrainLoader, cifarTestLoader)"
      ],
      "execution_count": 0,
      "outputs": []
    },
    {
      "metadata": {
        "id": "4FEmz3uf3DV0",
        "colab_type": "text"
      },
      "cell_type": "markdown",
      "source": [
        "##Training Accuracy\n",
        "The trained model is run on the train dataset. Accuracy of 94.736% is obtained."
      ]
    },
    {
      "metadata": {
        "id": "6ec0UoJj9ARo",
        "colab_type": "code",
        "outputId": "7cd20dd3-80f3-43c9-f8c2-5f240944d6ca",
        "colab": {
          "base_uri": "https://localhost:8080/",
          "height": 34
        }
      },
      "cell_type": "code",
      "source": [
        "correct = 0\n",
        "total = 0\n",
        "with torch.no_grad():\n",
        "    for data in cifarTrainLoader:\n",
        "      images, labels = data\n",
        "      images, labels = images.to(device), labels.to(device)\n",
        "      outputs = cifarResnet(images)\n",
        "      predicted_output = torch.argmax(outputs, 1)\n",
        "      correct += (predicted_output == labels).sum().item()\n",
        "      total += labels.size(0)\n",
        "print(\"Training Accuracy:\", correct*100/total, \"%\")"
      ],
      "execution_count": 0,
      "outputs": [
        {
          "output_type": "stream",
          "text": [
            "Training Accuracy: 94.736 %\n"
          ],
          "name": "stdout"
        }
      ]
    },
    {
      "metadata": {
        "id": "dKVw84Dv3TZz",
        "colab_type": "text"
      },
      "cell_type": "markdown",
      "source": [
        "##Testing Accuracy\n",
        "The trained model is run on the test dataset. Accuracy of 78.51% is obtained."
      ]
    },
    {
      "metadata": {
        "id": "FEDzL9nS__dz",
        "colab_type": "code",
        "outputId": "c9f98457-7937-435d-b6c7-da189b0b9534",
        "colab": {
          "base_uri": "https://localhost:8080/",
          "height": 34
        }
      },
      "cell_type": "code",
      "source": [
        "correct = 0\n",
        "total = 0\n",
        "with torch.no_grad():\n",
        "    for data in cifarTestLoader:\n",
        "      images, labels = data\n",
        "      images, labels = images.to(device), labels.to(device)\n",
        "      outputs = cifarResnet(images)\n",
        "      predicted_output = torch.argmax(outputs, 1)\n",
        "      correct += (predicted_output == labels).sum().item()\n",
        "      total += labels.size(0)\n",
        "print(\"Testing Accuracy:\", correct*100/total, \"%\")"
      ],
      "execution_count": 0,
      "outputs": [
        {
          "output_type": "stream",
          "text": [
            "Testing Accuracy: 78.51 %\n"
          ],
          "name": "stdout"
        }
      ]
    },
    {
      "metadata": {
        "id": "sz7Ay3k-3uXc",
        "colab_type": "text"
      },
      "cell_type": "markdown",
      "source": [
        "##Comparision among KNN, Alexnet, Resnet18\n",
        "### KNN : 55.5% accuracy.\n",
        "### Alexnet pretrained model : 93.25% accuracy\n",
        "### Resnet18 : 90.375% accuracy.\n"
      ]
    },
    {
      "metadata": {
        "id": "3piYYs8PA29z",
        "colab_type": "code",
        "colab": {}
      },
      "cell_type": "code",
      "source": [
        ""
      ],
      "execution_count": 0,
      "outputs": []
    }
  ]
}